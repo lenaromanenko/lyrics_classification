{
 "cells": [
  {
   "cell_type": "code",
   "execution_count": null,
   "metadata": {},
   "outputs": [],
   "source": [
    "# 5.02.2021"
   ]
  },
  {
   "cell_type": "markdown",
   "metadata": {},
   "source": [
    "### Project 4: \"Text Classification\""
   ]
  },
  {
   "cell_type": "code",
   "execution_count": 1,
   "metadata": {},
   "outputs": [],
   "source": [
    "import pandas as pd\n",
    "import requests\n",
    "import re\n",
    "import os\n",
    "import spacy\n",
    "from bs4 import BeautifulSoup\n",
    "from typing import Tuple, List\n",
    "from sklearn.feature_extraction.text import CountVectorizer\n",
    "from sklearn.feature_extraction.text import TfidfTransformer\n",
    "from sklearn.feature_extraction.text import TfidfVectorizer\n",
    "from sklearn.pipeline import make_pipeline\n",
    "from sklearn.naive_bayes import MultinomialNB"
   ]
  },
  {
   "cell_type": "raw",
   "metadata": {},
   "source": [
    "# Stop words:\n",
    "import nltk\n",
    "#from nltk.stem import PorterStemmer\n",
    "from nltk.corpus import stopwords\n",
    "from nltk.tokenize import word_tokenize"
   ]
  },
  {
   "cell_type": "raw",
   "metadata": {},
   "source": [
    "# Download package for tokenization:\n",
    "nltk.download('punkt')\n",
    "\n",
    "# Download package for stop-words:\n",
    "nltk.download('stopwords')"
   ]
  },
  {
   "cell_type": "markdown",
   "metadata": {},
   "source": [
    "### 1. Download HTML pages & Get a list of song urls:"
   ]
  },
  {
   "cell_type": "code",
   "execution_count": 2,
   "metadata": {},
   "outputs": [],
   "source": [
    "num = 20\n",
    "\n",
    "def collect_song_links(artist:str, site:str='metrolyrics') -> Tuple[List, str]:\n",
    "\n",
    "    links = []  \n",
    "    if site == 'metrolyrics':\n",
    "        artist = artist.replace(' ', '-')\n",
    "        url = \"https://www.metrolyrics.com/\" + artist + \"-lyrics.html\"\n",
    "        response = requests.get(url)\n",
    "        if response.status_code != 200:\n",
    "            print('Sorry try again.')\n",
    "\n",
    "        soup = BeautifulSoup(markup=response.text)\n",
    "        for td in soup.find_all('td'):\n",
    "            if td.a is not None:\n",
    "                links.append(td.a.get('href'))  \n",
    "    \n",
    "    elif site == 'lyrics':\n",
    "        print('Feature not available.')\n",
    "    \n",
    "    return links, artist"
   ]
  },
  {
   "cell_type": "markdown",
   "metadata": {},
   "source": [
    "### 2. Extracting lyrics from song urls:"
   ]
  },
  {
   "cell_type": "code",
   "execution_count": 3,
   "metadata": {},
   "outputs": [],
   "source": [
    "def get_songs_lyrics(links:list, artist_name:str, num:int) -> List[Tuple]:\n",
    "    \n",
    "    lyrics = []\n",
    "    for li in links[:num]:\n",
    "        response = requests.get(li)\n",
    "        soup = BeautifulSoup(markup=response.text)\n",
    "        lyrics_section = soup.find(attrs={'id':'lyrics-body-text'})\n",
    "        lyrics_chunk = []\n",
    "        for verse in lyrics_section.find_all('p', class_='verse'):\n",
    "            lyrics_chunk.append(verse.text)\n",
    "\n",
    "        lyrics.append((' '.join(lyrics_chunk))) #artist_name\n",
    "    \n",
    "    return lyrics"
   ]
  },
  {
   "cell_type": "markdown",
   "metadata": {},
   "source": [
    "### 3. Combining two functions together:"
   ]
  },
  {
   "cell_type": "code",
   "execution_count": 4,
   "metadata": {},
   "outputs": [],
   "source": [
    "def main (artist, num):\n",
    "    \n",
    "    links, artist = collect_song_links(artist)\n",
    "    results = get_songs_lyrics(links, artist, num)\n",
    "    \n",
    "    return results"
   ]
  },
  {
   "cell_type": "code",
   "execution_count": 5,
   "metadata": {},
   "outputs": [],
   "source": [
    "LABELS = ['frank sinatra'] * num + ['chris rea'] * num"
   ]
  },
  {
   "cell_type": "code",
   "execution_count": 6,
   "metadata": {},
   "outputs": [
    {
     "data": {
      "text/plain": [
       "[\"L is for the way you look at me\\nO is for the only one I see\\nV is very, very extraordinary\\nE is even more than anyone that you adore can Love is all that I can give to you\\nLove is more than just a game for two\\nTwo in love can make it\\nTake my heart and please don't break it\\nLove was made for me and you L is for the way you look at me\\nO is for the only one I see\\nV is very, very extraordinary\\nE is even more than anyone that you adore can Love is all that I can give to you\\nLove is more than just a game for two\\nTwo in love can make it\\nTake my heart and please don't break it\\nLove was made for me and you\\nLove was made for me and you\\nLove was made for me and you\\nLove was made for me and you\",\n",
       " \"Start spreading the news\\nI am leaving today\\nI want to be a part of it\\nNew York, New York These vagabond shoes\\nAre longing to stray\\nRight through the very heart of it\\nNew York, New York I wanna wake up, in a city\\nThat doesn't sleep\\nAnd find I'm king of the hill\\nTop of the heap This little town blues\\nAre melting away\\nI'll make a brand new start of it\\nIn old New York If I can make it there\\nI'll make it anywhere\\nIt's up to you\\nNew York, New York New York, New York\\nI want to wake up in that city\\nThat never sleeps\\nAnd find I'm hey number one\\nTop of the list\\nKing of the hill\\nHey number one These are little town blues\\nThey have all melted away\\nI'm gonna make a brand new start of it\\nIn old New York\\nAnd I\\nIf I can make it there\\nI'm gonna make it anywhere\\nIt's up to you\\nNew York, New York, New York\",\n",
       " '',\n",
       " 'And now the end is near\\nAnd so I face the final curtain\\nMy friend, I\\'ll say it clear\\nI\\'ll state my case of which I\\'m certain I\\'ve lived a life that\\'s full\\nI\\'ve travelled each and every highway\\nand more, much more than this\\nI did it my way Regrets I\\'ve had a few\\nBut then again too few to mention\\nI did what I had to do\\nAnd saw it through without exemption I planned each chartered course\\nEach careful step along the by-way\\nAnd more, much more than this\\nI did it my way Yes, there were times\\nI\\'m sure you knew\\nWhen I bit off more than I could chew\\nBut through it all when there was doubt\\nI ate it up and spit it out\\nI faced it all And I stood tall\\nAnd did it my way\\nI\\'ve loved, I\\'ve laughed, and cried\\nI\\'ve had my fill, my share of losing And now, as tears subside\\nI find it all so amusing\\nTo think I did all that\\nAnd may I say, not in a shy way \"Oh no, oh no, not me\\nI did it my way\"\\nFor what is a man, what has he got?\\nIf not himself then he has naught\\nTo say the things he truly feels\\nAnd not the words of one who kneels\\nThe record shows I took the blows\\nAnd did it my way\\nYes, it was my way',\n",
       " \"Next time you're found\\nWith your chin on the ground\\nThere a lot to be learned\\nSo look around Just what makes that little old ant\\nThink he'll move that rubber tree plant\\nAnyone knows an ant, can't\\nMove a rubber tree plant But he's got high hopes\\nHe's got high hopes\\nHe's got high apple pie\\nIn the sky hopes So any time you're gettin' low\\n'Stead of lettin' go, just remember that ant\\nOops, there goes another rubber tree plant\\nOops, there goes another rubber tree plant\\nOops, there goes another rubber tree plant When troubles call\\nAnd your back's to the wall\\nThere a lot to be learned\\nThat wall could fall Once there was a silly old ram\\nThought he'd punch a hole in a dam\\nNo one could make that ram, scram\\nHe kept buttin' that dam 'Cause he had high hopes\\nHe had high hopes\\nHe had high apple pie\\nIn the sky hopes So any time you're feelin' bad\\n'Stead of feelin' sad, just remember that ram\\nOops, there goes a billion kilowatt dam\\nOops, there goes a billion kilowatt dam\\nOops, there goes a billion kilowatt dam All problems just a toy balloon\\nThey'll be bursted soon, they're just bound to go pop\\nOops, there goes another problem kerplop\\nOops, there goes another problem kerplop\\nOops, there goes another problem kerplop, kerplop\",\n",
       " \"You're just too good to be true\\nI can't take my eyes off of you\\nYou'd be like heaven to touch\\nI wanna hold you so much\\nAt long last love has arrived\\nand I thank God I'm alive You're just too good to be true\\ncan't take my eyes off of you\\nPardon the way that I stare,\\nthere's nothing else to compare\\nThe sight of you leaves me weak\\nthere are no words left to speak But if you feel like I feel,\\nplease let me know that it's real\\nYou're just too good to be true,\\ncan't take my eyes off of you\\nI love you baby and if it's quite all right,\\nI need you baby to warm the lonely nights\\nI love you baby trust in me when I say Oh pretty baby don't bring me down I pray\\nOh pretty baby now that I found you, stay\\nAnd let me love you baby, let me love you\\nYou're just too good to be true\\ncan't take my eyes off of you\\nYou'd be like heaven to touch I wanna hold you so much\\nAt long last love has arrived\\nand I thank God I'm alive\\nYou're just too good to be true\\ncan't take my eyes off of you\\nI love you baby and if it's quite all right, I need you baby to warm the lonely night\\nI love you baby trust in me when I say\\nOh pretty baby don't bring me down I pray\\nOh pretty baby now that I found you, stay\\nAnd let me love you baby, let me love you\",\n",
       " \"Somewhere beyond the sea\\nSomewhere waitin' for me\\nMy lover stands on golden sand\\nAnd watches the ships that go sailin' Somewhere beyond the sea\\nShe's there watchin' for me\\nIf I could fly like birds on high\\nThen straight to her arms I'd go sailin' It's far beyond the star\\nIt's near beyond the moon\\nI know beyond a doubt\\nMy heart will lead me there soon We'll meet beyond the shore\\nWe'll kiss just as before\\nHappy we'll be, beyond the sea\\nAnd never again I'll go sailin' I know beyond a doubt,\\nMy heart will lead me there soon\\nWe'll meet, I know we'll meet\\nBeyond the shore\\nWe'll kiss just as before\\nHappy we'll be, beyond the sea\\nAnd never again I'll go sailin' (No more sailin')\\n(So long sailin')\\n(Byebye sailin')\",\n",
       " 'I know I stand in line,\\nuntil you think you have the time\\nto spend an evening with me.\\nAnd if we go some place to dance,\\nI know that there\\'s a chance\\nyou won\\'t be leaving with me.\\nAnd afterwards we drop into a quiet little place\\nand have a drink or two.\\nAnd then I go and spoil it all,\\nby saying something stupid\\nlike: \"I love you.\"\\nI can see it in your eyes,\\nthat you despise the same old lies\\nyou heard the night before. And though it\\'s just a line to you,\\nfor me it\\'s true,\\nit never seemed so right before.\\nI practice every day to find some clever lines to say,\\nto make the meaning come true.\\nBut then I think I\\'ll wait\\nuntil the evening gets late,\\nand I\\'m alone with you.\\nThe time is right, your perfume fills my head,\\nthe stars get red,\\nand oh, the night\\'s so blue.\\nAnd then I go and spoil it all,\\nby saying something stupid\\nlike: \"I love you.\"\\nThe time is right, your perfume fills my head,\\nthe stars get red,\\nand oh, the night\\'s so blue.\\nAnd then I go and spoil it all,\\nby saying something stupid\\nlike: \"I love you.\"\\n\"i love you\"\\n\"i love you\"\\n\"i love you\"',\n",
       " \"Some day, when I'm awfully low\\nWhen the world is cold\\nI will feel a glow just thinking of you\\nAnd the way you look tonight Yes, you're lovely, with your smile so warm\\nAnd your cheeks so soft\\nThere is nothing for me but to love you\\nAnd the way you look tonight With each word your tenderness grows\\nTearin' my fear apart\\nAnd that laugh.wrinkles your nose\\nTouches my foolish heart Lovely ... Never, never change\\nKeep that breathless charm\\nWon't you please arrange it? 'cause I love you\\nJust the way you look tonight And that laugh that wrinkles your nose\\nIt touches my foolish heart Lovely ... Don't you ever change\\nKeep that breathless charm\\nWon't you please arrange it? 'cause I love you\\na-just the way you look tonight Mm, Mm Mm, Mm,\\nJust the way you look tonight\",\n",
       " \"That's life (that's life), that's what all the people say\\nYou're ridin' high in April, shot down in May\\nBut I know I'm gonna change that tune\\nWhen I'm back on top, back on top in June I said that's life (that's life), and as funny as it may seem\\nSome people get their kicks stompin' on a dream\\nBut I don't let it, let it get me down\\n'cause this fine old world, it keeps spinnin' around I've been a puppet, a pauper, a pirate, a poet, a pawn and a king\\nI've been up and down and over and out and I know one thing\\nEach time I find myself flat on my face\\nI pick myself up and get back in the race That's life (that's life), I tell you I can't deny it\\nI thought of quitting, baby, but my heart just ain't gonna buy it\\nAnd if I didn't think it was worth one single try\\nI'd jump right on a big bird and then I'd fly I've been a puppet, a pauper, a pirate, a poet, a pawn and a king\\nI've been up and down and over and out and I know one thing\\nEach time I find myself layin' flat on my face\\nI just pick myself up and get back in the race That's life (that's life), that's life and I can't deny it\\nMany times I thought of cuttin' out but my heart won't buy it\\nBut if there's nothin' shakin' come this here July\\nI'm gonna roll myself up in a big ball a-and die My, my!\",\n",
       " \"Oh, it's a long, long while from May to December\\nBut the days grow short when you reach September\\nAnd the autumn weather turns the leaves to flame\\nAnd I haven't got time for the waiting game And the days dwindle down to a precious few\\nSeptember, November\\nAnd these few precious days, I'll spend with you\\nThese precious days, I'll spend with you And the days dwindle down to a precious few\\nSeptember, November\\nAnd these few precious days, I'll spend with you\\nThese precious days, I'll spend with you\",\n",
       " 'Have yourself a merry little Christmas\\nLet your heart be light\\nFrom now on, all our troubles will be out of sight Have yourself a merry little Christmas\\nMake the yule-tide gay\\nFrom now on, our troubles will be miles away Here were are as in olden days\\nHappy golden days of yore\\nFaithful friends who are dear to us\\nGather near to us once more Through the years we all will be together\\nIf the fates allow\\nHang a shining star upon the highest bough\\nAnd have yourself a merry little Christmas now Here we are as in olden days\\nHappy golden days Of yore\\nFaithful friends who are dear to us\\nGather near to us once more Through the years we all will be together\\nIf the fates allow\\nHang a shining star upon the highest bough\\nAnd have yourself a merry little Christmas now\\nMerry Christmas, Merry Christmas...',\n",
       " 'She gets too hungry for dinner at eight\\nShe likes the theatre and never comes late\\nShe never bothers with people she\\'d hate\\nThat\\'s why the lady is a tramp Doesn\\'t like crap games with barons or earls\\nWon\\'t go to Harlem in ermine and pearls\\nWon\\'t dish the dirt with the rest of the girls\\nThat\\'s why the lady is a tramp She likes the free, fresh wind in her hair\\nLife without care\\nShe\\'s broke, and it\\'s \"ok\" Hates California, it\\'s cold and it\\'s damp\\nThat\\'s why the lady is a tramp She gets too hungry to wait for dinner at eight\\nShe loves the theatre but never comes late\\nShe\\'d never bother with people she\\'d hate\\nThat\\'s why the lady is a tramp She\\'ll have no crap games with sharpies and frauds\\nAnd she won\\'t go to Harlem in Lincolns or Fords\\nAnd she won\\'t dish the dirt with the rest of the broads\\nThat\\'s why the lady is a tramp She\\'d love the free, fresh wind in her hair\\nLife without care\\nShe\\'s broke, but it\\'s *\"ok\"* Hates California, it\\'s so cold and so damp\\nThat\\'s why the lady\\nThat\\'s why the lady\\nThat\\'s why the lady is a tramp',\n",
       " \"It had to be you\\nIt had to be you\\nI wandered around\\nAnd finally found\\nThe somebody who\\nCould make me be true Could make me be blue\\nOr even be glad\\nJust to be sad\\nThinking of you Some others I've seen\\nMight never been mean\\nMight never be crossed\\nOr try to be bossed\\nBut they wouldn't do For nobody else\\nGave me a thrill\\nWith all your faults\\nI love you still\\nIt had to be you\\nWonderful you\\nIt had to be you\",\n",
       " \"The summer wind came blowin' in\\nFrom across the sea\\nIt lingered there to touch your hair\\nAnd walk with me All summer long, we sang a song\\nAnd then we strolled that golden sand\\nTwo sweethearts\\nAnd the summer wind Like painted kites\\nThose days and nights they went flyin' by\\nThe world was new\\nBeneath a blue umbrella sky Then softer than a piper man\\nOne day it called to you\\nI lost you, I lost you\\nTo the summer wind The autumn wind and the winter winds\\nThey have come and gone\\nAnd still the days, those lonely days\\nThey go on and on And guess who sighs his lullabies\\nThrough nights that never end\\nMy fickle friend, the summer wind\\nThe summer wind, warm summer wind, the summer wind\",\n",
       " \"Come fly with me, let's fly, let's fly away\\nIf you could use some exotic booze\\nThere's a bar in far Bombay\\nCome fly with me, let's fly, let's fly away Come fly with me, let's float down to Peru\\nIn llama-land there's a one-man band\\nAnd he'll toot his flute for you\\nCome on fly with me, let's take off in the blue Once I get you up there\\nWhere the air is rarefied\\nWe'll just glide\\nStarry-eyed\\nOnce I get you up there\\nI'll be holding you so near\\nYou may hear\\nall Angels cheer, 'cause we're together Weather-wise, it's such a lovely day\\nJust say the words and we'll beat the birds\\nBack to Acapulco Bay\\nIt is perfect for a flying honeymoon, they say\\nCome fly with me, let's fly, let's fly away\\nOnce I get you up there\\nWhere the air is rarefied\\nWe'll just glide\\nStarry-eyed\\nOnce I get you up there\\nI'll be holding you so very near\\nYou mite even hear\\na hole gang cheer, 'cause we're together Weather-wise, it's such a Co co day\\nIf you say those words, and we'll take the t birds\\nBack to Acapulco Bay\\nIt is perfect for a flying honeymoon, they babe\\nCome fly with me, let's fly\\nPack up, let's fly away\",\n",
       " \"Writer(s): leo robin/ralph rainger Thanks for the memory\\nOf things I can't forget\\nJourneys on a jet\\nOur wond'rous week in martinique\\nAnd vegas and roulette\\nHow lucky I was And thanks for the memory\\nOf summers by the sea\\nDawn in waikiki\\nWe had a pad in london\\nBut we didn't stop for tea\\nHow cozy it was Now since our breakup I wake up\\nAlone on a gray morning-after\\nI long for the sound of your laughter\\nAnd then I see the laugh's on me But thanks for the memory\\nOf every touch a thrill\\nI've been through the mill\\nI've lived a lot and learned a lot\\nYou loved me not and still\\nI miss you so much Thanks for the memory\\nOf how we used to jog\\nEven in a fog\\nThat barbecue in malibu\\nAway from all the smog\\nHow rainy it was Thanks for the memory\\nOf letters I destroyed\\nBooks that we enjoyed\\nTonight the way things look\\nI need a book by sigmund freud\\nHow brainy he was Gone are those evenings on broadway\\nTogether we'd go to a great show\\nBut now I begin with the late show\\nAnd wish that you\\nWere watching, too I know it's a fallacy\\nThat grown men never cry\\nBaby, that's a lie\\nWe had our bed of roses\\nBut forgot that roses die\\nAnd thank you so much\",\n",
       " \"She's a sunflower, she's my one flower,\\nShe's the flower of my heart.\\nI was born in Kansas, Iowa, bred in Kansas,\\nAnd when I get married, I'll be wed in Kansas\\nThere's a true-blue gal who promised she would wait,\\nShe's a sunflower from the Sunflower State.\\nShe's a sunflower, she's my sunflower,\\nAnd I'll know we'll never part,\\nShe's a sunflower, she's my one flower,\\nShe's the flower of my heart. Troubles end in Kansas, folks unbend in Kansas,\\nEveryone you'll meet will be your friend in Kansas,\\nAnd they'll all be there to help me celebrate\\nWith my sunflower from the Sunflower State.\\nShe's a sunflower, she's my sunflower,\\nAnd I'll know we'll never part,\\nShe's a sunflower, she's my one flower,\\nShe's the flower of my heart.\\nOh the moon is brighter and stars are bluer,\\nAnd the gals are sweeter and their hearts are truer,\\nAnd I'm here to take, there's one who's really great,\\nShe's that sunflower from the Sunflower State.\\nShe's a sunflower, she's my sunflower,\\nAnd I'm sure we'll never part,\\nShe's a sunflower, she's my one flower,\\nShe's the flower of my heart.\",\n",
       " \"If you go away on this summer day,\\nThen you might as well take the sun away;\\nAll the birds that flew in the summer sky,\\nWhen our love was new and our hearts were high;\\nWhen the day was young and the night was long,\\nAnd the moon stood still for the night bird's song.\\nIf you go away, if you go away, if you go away.\\nBut if you stay, I'll make you a day\\nLike no day has been, or will be again;\\nWe'll sail the sun, we'll ride on the rain,\\nWe'll talk to the trees and worship the wind.\\nThen if you go, I'll understand,\\nLeave me just enough love to fill up my hand,\\nIf you go away, if you go away, if you go away.\\nIf you go, as I know you will, you must tell the world to stop turning\\nTill you return again, if you ever do, for what good is love without loving you,\\nCan I tell you now, as you turn to go, I'll be dying slowly till the next hello,\\nIf you go away, if you go away, if you go away.\\nBut if you stay, I'll make you a night\\nLike no night has been, or will be again.\\nI'll sail on your smile, I'll ride on your touch,\\nI'll talk to your eyes that I love so much.\\nBut if you go, go, I won't cry,\\nThough the good is gone from the word goodbye,\\nIf you go away, if you go away, if you go away.\\nIf you go away, as I know you must,\\nThere'll be nothing left in the world to trust,\\nJust an empty room, full of empty space,\\nLike the empty look I see on your face.\\nI'd have been the shadow of your shadow\\nIf I thought it might have kept me by your side.\\nIf you go away, if you go away, if you go away.\",\n",
       " \"Tall and tan and young and lovely, the girl from Ipanema goes walking\\nAnd when she passes, each one she passes goes - ah\\nWhen she walks, she's like a samba that swings so cool and sways so gentle\\nThat when she passes, each one she passes goes - ooh\\n(Ooh) But I watch her so sadly, how can I tell her I love her\\nYes I would give my heart gladly,\\nBut each day, when she walks to the sea\\nShe looks straight ahead, not at me\\nTall, and tan, and young, and lovely, the girl from Ipanema goes walking\\nAnd when she passes, I smile - but she doesn't see (doesn't see)\\n(She just doesn't see, she never sees me,...) Olha que coisa mais linda mais cheia de graÃ§a\\nÃ\\x89 ela, menina, que vem e que passa\\nNum doce balanÃ§o a caminho do mar\\nMoÃ§a do corpo dourado do sol de Ipanema\\nO seu balanÃ§ado parece um poema\\nÃ\\x89 a coisa mais linda que eu jÃ¡ vi passar (Ooh) But I watch her so sadly\\n(Aah) Por que tudo eh tao triste?\\nYes I would give my heart gladly,\\nBut each day, when she walks to the sea\\nShe looks straight ahead, not at me\\nTall, tan, young, lovely, the girl from Ipanema goes walking\\nAnd when she passes, I smile - but she doesn't see (doesn't see)\\n(She just doesn't see, she never sees me,...) Por causa do amor...\\nShe just doesn't see...\\nNem olha para mim...\\nShe never sees me...\\nPor causa do amor\",\n",
       " \"Well I'm standing by a river\\nBut the water doesn't flow\\nIt boils with every poison you can think of\\nAnd I'm underneath the streetlights\\nBut the light of joy I know\\nScared beyond belief way down in the shadows\\nAnd the perverted fear of violence\\nChokes a smile on every face\\nAnd common sense is ringing out the bells\\nThis ain't no technological breakdown\\nOh no, this is the road to Hell\\nAnd all the roads jam up with credit\\nAnd there's nothing you can do It's all just bits of paper\\nFlying away from you\\nLook out world take a good look\\nWhat comes down here\\nYou must learn this lesson fast\\nAnd learn it well\\nThis ain't no upwardly mobile freeway\\nOh no, this is the road to Hell\",\n",
       " \"Between the eyes of love I call your name\\nBehind those guarded walls I used to go\\nUpon a summer wind there's a certain melody\\nTakes me back to the place that I know\\nOn the beach, yeah, yeah\\nDown on the beach The secrets of the summer I will keep\\nThe sands of time will blow a mystery\\nNo-one but you and I\\nUnderneath that moonlit sky\\nTake me back to the place that I know\\nOn the beach, yeah, yeah\\nDown on the beach\\nDown on the beach\\nOn the beach Forever in my dreams my heart will be\\nHanging on to this sweet memory\\nA day of strange desire\\nAnd a night that burned like fire\\nTake me back to the place that I know\\nOn the beach, yeah, yeah\\nDown on the beach\\nYeah, down on the beach\\nOn the beach\",\n",
       " \"There's rain on my window\\nBut I'm thinking of you\\nTears on my pillow\\nBut I will come through\\nJosephine\\nI'll send you all my love\\nAnd every single step, I'll take\\nI'll take for you Josephine I'll send you all my love, babe\\nJosephine I'll send you all my love, babe Now there's a storm on my radar\\nBut I can still fly Oh, and you are the reason\\nThe blue in my sky\\nJosephine\\nI'll send you all my love, babe\\nJosephine\\nA life without meaning\\nI was walking away\\nIn the coldest of winters\\nNight becomes day\\nJosephine\\nI'll send you all my love\\nAnd every single step that I'll take\\nI'll take for you, my\\nJosephine\\nI'll send you all my love, babe\\nJosephine\\nI'll send you all my love, babe\\nOh when I'm far away\\n(I'll send you all my love)\\nOh, so far away\\nI'll send you all my love\\nJosephine\\n(I'll send you all my love)\\nI'll send you all my love\\nJosephine\\n(I'll send you all my love)\\nJosephine\\n(I'll send you all my love)\\nJosephine\\n(I'll send you all my love)\\nJosephine\\n(I'll send you all my love)\\nI'll send you all my love\\nJosephine\",\n",
       " \"I do not sleep tonight I may not ever\\nThe sins of the past have come\\nSee how they sit down together\\nOutside my window Outside my door\\nAnd I know the reason what they've all come here for\\nYou my love\\nMy sweet, sweet love\\nAre what it's all because of\\nSurrender is easy I know you do me no harm\\nBut your innocence haunts me\\nThe most fatal of charms\\nOh I must have done some wrong On a dark and distant day\\nFor I know full and well tonight\\nThis is how that I must pay\\nAnd you my love My sweet, sweet love\\nAre what it's all because of\\noh You my love\\nMy sweet, sweet love\\nAre what it's all because of\\nyeah\",\n",
       " \"On the hard fast train, on the road to gain\\nSomething gets right through to your telling bone\\nThere's a sudden itch, an electric twitch\\nSometimes I swear this body's got a mind of it's own This is the naked truth, this is the light\\nThere's only one place left to go Auberge (Auberge)\\nAuberge (Auberge) You meet the silent type on a windy trail\\nWith a shiny cloak and an unseen silver dagger\\nYou can talk till you ache, give yourself one more break\\nYou can tell by the look on his face that it just doesn't matter 'Cause this is the naked truth and this is the light\\nThere's only one place left to go Auberge (Auberge)\\nAuberge (Auberge) Oh, give me a weekend, give me a day\\nDon't like what I'm seeing though I hear what you say\\nThink with a dagger and you'll die on your knees\\nBegging for mercy, singing: Please, Mister, please 'Cause this is the naked truth and this is the light\\nBut there's only one place left to go Auberge, Auberge\\nAuberge (Auberge)\\nAuberge, Auberge\\nAuberge, Auberge\\n(Auberge, Auberge)\\n(Auberge)\",\n",
       " \"My world is miles of endless roads\\nThat leaves a trail of broken dreams\\nWhere have you been\\nI hear you say?\\nI will meet you at the Blue Cafe\\nBecause, this is where the one who knows\\nMeets the one who does not care\\nThe cards of fate\\nThe older shows\\nTo the younger one, who dares to take\\nThe chance of no return Where have you been?\\nWhere are you going to?\\nI want to know what is new\\nI want to go with you\\nWhat have you seen?\\nWhat do you know that is new?\\nWhere are you going to?\\nBecause I want to go with you So meet me down at the Blue Cafe The cost is great, the price is high\\nTake all you know, and say goodbye\\nYour innocence, inexperience\\nMean nothing now Because, this is where the one who knows\\nMeets the one that does not care\\nWhere have you been?\\nI hear you say\\nI'll meet you at the Blue Cafe\\nSo meet me at the Blue Cafe\",\n",
       " \"When you sing of the joy only love can bring\\nHeaven knows, it's in my heart and my soul We're caught in a world full of tears\\nSo many sad times and fears\\nSo while there's a chance and you're near Well, let's dance\\nYeah, yeah, let's dance\\nAh, yeah There's a world far away from the one we see\\nThere's a dream I will never let go One thing is certainly true\\nThis moment's for me and for you\\nWhile there's not a thing that we can do Well, let's dance\\nYeah, yeah, let's dance\\nAh, yeah, yeah Well, let's dance\\nLet's dance\\nLet's dance Let's dance\\nWell, let's dance\\nAh, let's dance Let's dance\\nAh, yeah, yeah, yeah\\nLet's dance\\nAh, let's dance Well, let's dance\\nYeah, yeah\\nLet's dance\\nLet's dance\\nAh, yeah\",\n",
       " \"Look deep INTO the April face\\nA change is clearly taking place\\nLooking for the summer The eyes take on a certain gaze\\nAnd leave behind the springtime days\\nGo looking for the summer This ain't no game of kiss and tell\\nThe implications how you KNEW so well\\nGo looking for the summer The time has come and they must go\\nTo play the passion out that haunts you so\\nLooking for the summer Remember love how it was the same\\nWe scratched and hurt each OTHER'S growing pains\\nWe were looking for the summer\\nAnd still I stand this very day\\nWith a burning wish to fly away\\nI'm still looking, looking for the summer\",\n",
       " \"I want to see the blue sky\\nI want to feel the breeze\\nI want to hear the summer wind\\nSinging in the trees\\nI want to touch forever\\nAnd drift into its soul\\nPut my troubles in my right hand\\nHold them up\\nAnd let them go! Sweet summer day\\nTalking about a sweet summer day\\nTake your troubles and let them fly away\\nI'm talking about a sweet summer day So much time is wasted, pulling the line\\nFor sure you are running faster\\nBut you're only running blind\\nI want to touch forever\\nI want to really know\\nPut my troubles in my right hand\\nHold them up and let them go Sweet summer day\\nI'm talking about a sweet summer day\\nTake your troubles and let them drift away\\nTalking about a sweet summer day\",\n",
       " \"(3.30)\\nSomewhere in this crazy night\\nWith all this noise, and all this light\\nI'm out upon the crowded street\\nI play the game and I keep the beat\\nWoo-oo\\nBut I'm thinking of you\\nWoo-oo\\nBut I'm thinking of you\\nAnd I remember the summer days\\nYour strenght and yet your gentle ways\\nNow I'm back on the crowded street\\nThrough the darker days I keep the beat\\nWoo-oo\\nBut I'm thinking of you\\nWoo-oo\\nBut I'm thinking of you\\nThrough all the grey, I see skies of blue\\nI close my eyes cause I'm thinking of you\\nAnd I pray to god, that what we had\\nWe will have again someday\\nSo I telephoned to tell you what\\nI'd hoped you'd like to hear me say\\nWoo-oo\\nBut I'm thinking of you\\nWoo-oo\\nBut I'm thinking of you\\nWritten and performed by Chris Rea (vocals, guitars)\\nBass by Silvan Marc\\nKeyboards by Max Middleton\\nDrums and percussion by Martin Ditcham\\nTranscribed by IITI\",\n",
       " \"Chris Rea\\nMiscellaneous\\nTrue To You\\nWhen the time comes around\\nI want you to know\\nYou can count on me\\nWhen it all comes down\\nYou'll know where i'll be\\nStanding right next to you\\n'cos i'll be true to you\\nI'll be true to you When the days grow dark\\nAnd the winds grow cold\\nI'll still be with you\\nI'm tried and i'm tested\\nAnd i won't let you down\\nYou can count on me\\nBecause i'll be true to you\\nI'll be true to you This love that i've found\\nIt flows like a river\\nAnd it's all for you\\nThe streets of this town\\nSpeak only one name\\nAnd that name is you So when the time comes around\\nI want you to know\\nYou can count on me\\nWhen it all comes down\\nYou'll know where i'll be\\nStanding right next to you\\nBecause i'll be true to you\\nI'll be true to you\",\n",
       " \"I'm gone fishing\\nI got me a line\\nNothing I do is gonna make the difference\\nSo I'm taking the time And you ain't never gonna be happy\\nAnyhow, anyway\\nSo I'm gone fishing\\nAnd I'm going today I'm gone fishing\\nSounds crazy I know\\nI know nothing about fishing\\nBut just watch me go And when my time has come\\nI will look back and see\\nPeace on the shoreline\\nThat could have been me You can waste a whole lifetime\\nTrying to be\\nWhat you think is expected of you\\nBut you'll never be free May as well go fishing\",\n",
       " \"I see a turning wheel\\nOn a dusty track\\nCaught in the void and empty space\\nIn between there and back\\nAnd the paradise of going somewhere\\nThat's still so far away\\nHappy, boy you bet I am\\nHolding on to this smile for just as long as I can Heaven duu diduu du heaven It's all bright in front\\nAnd it's all dark behind\\nLiving for the now that's in between the bridges\\nand the signs\\nAnd getting there is still a long long way to go\\nWhile the others dream a wish\\nThis is everything I officially need to know\\nHappy, boy you bet I am\\nHolding on to this smile for just as long as I can\\nHeaven\\nduu diduu du\\nheaven heaven\\nduu diduu du heaven\",\n",
       " 'Hello friend, where you been so long?\\nTime goes by, so easy it sleeps away\\nJust like a shadow at the end of the day Hello friend, how are things for you these days?\\nSome guy from way-back-when, he mentioned your name\\nDid he ever get back to you?\\nAh, you know I told him to Sometimes I turn and I swear I hear you call\\nAnd I often wonder how we lost what we knew\\nSeems it gone in the wind, washed away in the rain\\nAnd the years go by and by The bridges you burned, long sinced turned into ashes\\nWhen there were no reasons, now the river runs dry\\nSeems it gone in the wind, washed away in the rain\\nAnd the years go by and by\\nWhere you been so long',\n",
       " 'Instrumental',\n",
       " \"Dyin' flame, you're free again\\nWho could love, do that to you\\nAll dressed in black, he won't be comin' back\\nLook, save your tears\\nGot years and years\\nThe pains of seventeen's\\nUnreal they're only dreams\\nSave your cryin' for the day Fool if you think it's over\\n'Cause you said goodbye\\nFool if you think it's over\\nI'll tell you why\\nNew born eyes always cry with pain\\nAt the first look at the mornin' sun\\nFool if you think it's over\\nIt's just begun Miss Teenage Dream, such a traffic scene\\nHe knocked your crown and ran away\\nFirst wound of pride, and how you cried and cried\\nBut save your tears, got years and years Fool if you think it's over\\n'Cause you said goodbye\\nFool if you think it's over\\nI'll tell you why... (Fool if you think it's over)\\n(Fool if you think it's over) I'll buy you first good wine\\nWe'll have a real good time\\nSave your cryin' for the day\\nThat may not come\\nBut anyone who had to pay\\nWould laugh at you and say Fool if you think it's over\\n'Cause you said goodbye\\nFool if you think it's over\\nI'll tell you why\\nNew born eyes always cry with pain\\nAt the first look at the mornin' sun\\nFool if you think it's over\\nIt's just begun\\nI'll buy you first good wine (Fool if you think it's over)\\nOoh, we'll have a real good time\\nSave your cryin' for the day (Fool if you think it's over)\\nNew born eyes always cry with pain\\nAt the first look at the mornin' sun\\nFool if you think it's over\\nIt's just begun - uuuun\",\n",
       " \"I'm driving home for Christmas\\nOh, I can't wait to see those faces\\nI'm driving home for Christmas, yeah\\nWell, I'm moving down that line And it's been so long\\nBut I will be there\\nI sing this song\\nTo pass the time away Driving in my car It's gonna take some time but I'll get there\\nTop to toe in tailbacks\\nOh, I got red lights all around\\nBut soon there'll be a freeway, yeah\\nGet my feet on holy ground So I sing for you\\nThough you can't hear me\\nWhen I get through\\nAnd feel you near me Driving in my car\\nI'm driving home for Christmas\\nWith a thousand memories I take look at the driver next to me\\nHe's just the same\\nJust the same Top to toe in tailbacks\\nOh, I got red lights all around\\nI'm driving home for Christmas, yeah\\nGet my feet on holy ground So I sing for you\\nThough you can't hear me\\nWhen I get through\\nOh and feel you near me Driving in my car\\nWith a thousand memories I take look at the driver next to me\\nHe's just the same\\nHe's driving home, driving home SONGWRITERS\\nREA, CHRISTOPHER ANTON\",\n",
       " \"Sat out a card game in a motel room\\nDon't let the muzak drive you crazy late at night\\nThey tell me it's all part of the deal I'm in\\nWell I close my eyes, put memory into sight Every time I see you smile Now the lady tabs your case, leaves you thinking\\nAn hour or so: I hope she's right on time \\nAnd you dream away your touchdown destination\\nNow single file and put yourself back in line But oh, every time I see you smile Now this old world don't give much for choosing\\nYou can spend a lifetime driving yourself wild\\nBut I can take it's punches laughing - don't mind losing\\nJust as long as I get to see you smile every once in a while\",\n",
       " \"Well I'm standing by a river\\nBut the water doesn't flow\\nIt boils with every poison you can think of\\nAnd I'm underneath the streetlights\\nBut the light of joy I know\\nScared beyond belief way down in the shadows\\nAnd the perverted fear of violence\\nChokes a smile on every face\\nAnd common sense is ringing out the bells\\nThis ain't no technological breakdown\\nOh no, this is the road to Hell And all the roads jam up with credit\\nAnd there's nothing you can do\\nIt's all just bits of paper\\nFlying away from you\\nLook out world take a good look\\nWhat comes down here\\nYou must learn this lesson fast\\nAnd learn it well\\nThis ain't no upwardly mobile freeway\\nOh no, this is the road to Hell\",\n",
       " \"Oh how I'd love it girl, just you and me\\nTake the day and fly\\nBut oh this job, it's got the best of me\\nTell you why, tell you why Somebody above is in a desperate state\\nSome kind of urgency, the kind that won't wait\\nI say tomorrow, he say today\\nAnd the man in my head well he tell me no way\\nKeep working\\nI got eight little fingers and only two thumbs\\nWill you leave me in peace while I get the work done\\nCan't you see I'm working\\nOh, oh I'm working on it\\nOh, oh I'm working on it Well they're coming from above me\\nAnd they're coming from below\\nYea they're in there right behind me\\nEverywhere that I go\\nAnd my buddy, he's screaming down the telephone line\\nHe say gimme, gimme, gimme\\nI say I ain't got the time\\nOh, oh can't you see I'm working on it\\nOh, oh I'm working on it\\nYea, yea, oh tell 'em How I'd love it girl, just you and me\\nTake the day and fly\\nBut oh, this job it's got the best of me\\nTell you why Well they're coming from above me\\nAnd they're coming from below\\nYea they're in there right behind me\\nEverywhere that I go\\nMy buddy, he's screaming down the telephone line\\nHe say gimme, gimme, gimme\\nI say I ain't got the time\\nOh, oh can't you see I'm working on it\\nOh, oh I'm working on it\\nOh, oh I'm working\\nOh, oh can't you see I'm working on it\"]"
      ]
     },
     "execution_count": 6,
     "metadata": {},
     "output_type": "execute_result"
    }
   ],
   "source": [
    "# Getting the text:\n",
    "CORPUS = main('frank sinatra', num) + main('chris rea', num)\n",
    "CORPUS = list(CORPUS)\n",
    "CORPUS"
   ]
  },
  {
   "cell_type": "code",
   "execution_count": 7,
   "metadata": {},
   "outputs": [
    {
     "data": {
      "text/plain": [
       "0     L is for the way you look at me\\nO is for the ...\n",
       "1     Start spreading the news\\nI am leaving today\\n...\n",
       "2                                                      \n",
       "3     And now the end is near\\nAnd so I face the fin...\n",
       "4     Next time you're found\\nWith your chin on the ...\n",
       "5     You're just too good to be true\\nI can't take ...\n",
       "6     Somewhere beyond the sea\\nSomewhere waitin' fo...\n",
       "7     I know I stand in line,\\nuntil you think you h...\n",
       "8     Some day, when I'm awfully low\\nWhen the world...\n",
       "9     That's life (that's life), that's what all the...\n",
       "10    Oh, it's a long, long while from May to Decemb...\n",
       "11    Have yourself a merry little Christmas\\nLet yo...\n",
       "12    She gets too hungry for dinner at eight\\nShe l...\n",
       "13    It had to be you\\nIt had to be you\\nI wandered...\n",
       "14    The summer wind came blowin' in\\nFrom across t...\n",
       "15    Come fly with me, let's fly, let's fly away\\nI...\n",
       "16    Writer(s): leo robin/ralph rainger Thanks for ...\n",
       "17    She's a sunflower, she's my one flower,\\nShe's...\n",
       "18    If you go away on this summer day,\\nThen you m...\n",
       "19    Tall and tan and young and lovely, the girl fr...\n",
       "20    Well I'm standing by a river\\nBut the water do...\n",
       "21    Between the eyes of love I call your name\\nBeh...\n",
       "22    There's rain on my window\\nBut I'm thinking of...\n",
       "23    I do not sleep tonight I may not ever\\nThe sin...\n",
       "24    On the hard fast train, on the road to gain\\nS...\n",
       "25    My world is miles of endless roads\\nThat leave...\n",
       "26    When you sing of the joy only love can bring\\n...\n",
       "27    Look deep INTO the April face\\nA change is cle...\n",
       "28    I want to see the blue sky\\nI want to feel the...\n",
       "29    (3.30)\\nSomewhere in this crazy night\\nWith al...\n",
       "30    Chris Rea\\nMiscellaneous\\nTrue To You\\nWhen th...\n",
       "31    I'm gone fishing\\nI got me a line\\nNothing I d...\n",
       "32    I see a turning wheel\\nOn a dusty track\\nCaugh...\n",
       "33    Hello friend, where you been so long?\\nTime go...\n",
       "34                                         Instrumental\n",
       "35    Dyin' flame, you're free again\\nWho could love...\n",
       "36    I'm driving home for Christmas\\nOh, I can't wa...\n",
       "37    Sat out a card game in a motel room\\nDon't let...\n",
       "38    Well I'm standing by a river\\nBut the water do...\n",
       "39    Oh how I'd love it girl, just you and me\\nTake...\n",
       "dtype: object"
      ]
     },
     "execution_count": 7,
     "metadata": {},
     "output_type": "execute_result"
    }
   ],
   "source": [
    "CORPUS = pd.Series(CORPUS)\n",
    "CORPUS"
   ]
  },
  {
   "cell_type": "code",
   "execution_count": 13,
   "metadata": {},
   "outputs": [],
   "source": [
    "# Cleaning the data\n",
    "def clean_data(column:pd.Series) -> pd.Series:\n",
    "    \n",
    "    column = column.copy()\n",
    "    column = column.str.replace(r\"[(),:!?@&\\'\\`\\\"\\_]\", \"\")\n",
    "    column = column.str.replace(r\"[\\n]\", \" \")\n",
    "    column = column.str.replace(r\"[...]\", \"\")\n",
    "    column = column.str.replace(r\"[\\d]\", \"\") \n",
    "    column = column.str.replace(r\"[-]\", \"\") \n",
    "    column = column.str.replace(r\"[\", \"\") \n",
    "    column = column.str.replace(r\"]\", \"\")\n",
    "    column = column.str.lower()\n",
    "    \n",
    "    return column"
   ]
  },
  {
   "cell_type": "code",
   "execution_count": 14,
   "metadata": {},
   "outputs": [
    {
     "data": {
      "text/plain": [
       "0     l is for the way you look at me o is for the o...\n",
       "1     start spreading the news i am leaving today i ...\n",
       "2                                                      \n",
       "3     and now the end is near and so i face the fina...\n",
       "4     next time youre found with your chin on the gr...\n",
       "5     youre just too good to be true i cant take my ...\n",
       "6     somewhere beyond the sea somewhere waitin for ...\n",
       "7     i know i stand in line until you think you hav...\n",
       "8     some day when im awfully low when the world is...\n",
       "9     thats life thats life thats what all the peopl...\n",
       "10    oh its a long long while from may to december ...\n",
       "11    have yourself a merry little christmas let you...\n",
       "12    she gets too hungry for dinner at eight she li...\n",
       "13    it had to be you it had to be you i wandered a...\n",
       "14    the summer wind came blowin in from across the...\n",
       "15    come fly with me lets fly lets fly away if you...\n",
       "16    writers leo robin/ralph rainger thanks for the...\n",
       "17    shes a sunflower shes my one flower shes the f...\n",
       "18    if you go away on this summer day then you mig...\n",
       "19    tall and tan and young and lovely the girl fro...\n",
       "20    well im standing by a river but the water does...\n",
       "21    between the eyes of love i call your name behi...\n",
       "22    theres rain on my window but im thinking of yo...\n",
       "23    i do not sleep tonight i may not ever the sins...\n",
       "24    on the hard fast train on the road to gain som...\n",
       "25    my world is miles of endless roads that leaves...\n",
       "26    when you sing of the joy only love can bring h...\n",
       "27    look deep into the april face a change is clea...\n",
       "28    i want to see the blue sky i want to feel the ...\n",
       "29     somewhere in this crazy night with all this n...\n",
       "30    chris rea miscellaneous true to you when the t...\n",
       "31    im gone fishing i got me a line nothing i do i...\n",
       "32    i see a turning wheel on a dusty track caught ...\n",
       "33    hello friend where you been so long time goes ...\n",
       "34                                         instrumental\n",
       "35    dyin flame youre free again who could love do ...\n",
       "36    im driving home for christmas oh i cant wait t...\n",
       "37    sat out a card game in a motel room dont let t...\n",
       "38    well im standing by a river but the water does...\n",
       "39    oh how id love it girl just you and me take th...\n",
       "dtype: object"
      ]
     },
     "execution_count": 14,
     "metadata": {},
     "output_type": "execute_result"
    }
   ],
   "source": [
    "CORPUS = clean_data(CORPUS)\n",
    "CORPUS"
   ]
  },
  {
   "cell_type": "markdown",
   "metadata": {},
   "source": [
    "### 4. Converting text to numbers by applying the Bag Of Words method:"
   ]
  },
  {
   "cell_type": "code",
   "execution_count": 10,
   "metadata": {},
   "outputs": [
    {
     "data": {
      "text/html": [
       "<div>\n",
       "<style scoped>\n",
       "    .dataframe tbody tr th:only-of-type {\n",
       "        vertical-align: middle;\n",
       "    }\n",
       "\n",
       "    .dataframe tbody tr th {\n",
       "        vertical-align: top;\n",
       "    }\n",
       "\n",
       "    .dataframe thead th {\n",
       "        text-align: right;\n",
       "    }\n",
       "</style>\n",
       "<table border=\"1\" class=\"dataframe\">\n",
       "  <thead>\n",
       "    <tr style=\"text-align: right;\">\n",
       "      <th></th>\n",
       "      <th>aah</th>\n",
       "      <th>aand</th>\n",
       "      <th>acapulco</th>\n",
       "      <th>ache</th>\n",
       "      <th>ado</th>\n",
       "      <th>adore</th>\n",
       "      <th>ah</th>\n",
       "      <th>ahead</th>\n",
       "      <th>aint</th>\n",
       "      <th>air</th>\n",
       "      <th>...</th>\n",
       "      <th>years</th>\n",
       "      <th>yes</th>\n",
       "      <th>yore</th>\n",
       "      <th>york</th>\n",
       "      <th>youd</th>\n",
       "      <th>youll</th>\n",
       "      <th>young</th>\n",
       "      <th>younger</th>\n",
       "      <th>youre</th>\n",
       "      <th>yuletide</th>\n",
       "    </tr>\n",
       "  </thead>\n",
       "  <tbody>\n",
       "    <tr>\n",
       "      <th>frank sinatra</th>\n",
       "      <td>0</td>\n",
       "      <td>0</td>\n",
       "      <td>0</td>\n",
       "      <td>0</td>\n",
       "      <td>0</td>\n",
       "      <td>2</td>\n",
       "      <td>0</td>\n",
       "      <td>0</td>\n",
       "      <td>0</td>\n",
       "      <td>0</td>\n",
       "      <td>...</td>\n",
       "      <td>0</td>\n",
       "      <td>0</td>\n",
       "      <td>0</td>\n",
       "      <td>0</td>\n",
       "      <td>0</td>\n",
       "      <td>0</td>\n",
       "      <td>0</td>\n",
       "      <td>0</td>\n",
       "      <td>0</td>\n",
       "      <td>0</td>\n",
       "    </tr>\n",
       "    <tr>\n",
       "      <th>frank sinatra</th>\n",
       "      <td>0</td>\n",
       "      <td>0</td>\n",
       "      <td>0</td>\n",
       "      <td>0</td>\n",
       "      <td>0</td>\n",
       "      <td>0</td>\n",
       "      <td>0</td>\n",
       "      <td>0</td>\n",
       "      <td>0</td>\n",
       "      <td>0</td>\n",
       "      <td>...</td>\n",
       "      <td>0</td>\n",
       "      <td>0</td>\n",
       "      <td>0</td>\n",
       "      <td>13</td>\n",
       "      <td>0</td>\n",
       "      <td>0</td>\n",
       "      <td>0</td>\n",
       "      <td>0</td>\n",
       "      <td>0</td>\n",
       "      <td>0</td>\n",
       "    </tr>\n",
       "    <tr>\n",
       "      <th>frank sinatra</th>\n",
       "      <td>0</td>\n",
       "      <td>0</td>\n",
       "      <td>0</td>\n",
       "      <td>0</td>\n",
       "      <td>0</td>\n",
       "      <td>0</td>\n",
       "      <td>0</td>\n",
       "      <td>0</td>\n",
       "      <td>0</td>\n",
       "      <td>0</td>\n",
       "      <td>...</td>\n",
       "      <td>0</td>\n",
       "      <td>0</td>\n",
       "      <td>0</td>\n",
       "      <td>0</td>\n",
       "      <td>0</td>\n",
       "      <td>0</td>\n",
       "      <td>0</td>\n",
       "      <td>0</td>\n",
       "      <td>0</td>\n",
       "      <td>0</td>\n",
       "    </tr>\n",
       "    <tr>\n",
       "      <th>frank sinatra</th>\n",
       "      <td>0</td>\n",
       "      <td>0</td>\n",
       "      <td>0</td>\n",
       "      <td>0</td>\n",
       "      <td>0</td>\n",
       "      <td>0</td>\n",
       "      <td>0</td>\n",
       "      <td>0</td>\n",
       "      <td>0</td>\n",
       "      <td>0</td>\n",
       "      <td>...</td>\n",
       "      <td>0</td>\n",
       "      <td>2</td>\n",
       "      <td>0</td>\n",
       "      <td>0</td>\n",
       "      <td>0</td>\n",
       "      <td>0</td>\n",
       "      <td>0</td>\n",
       "      <td>0</td>\n",
       "      <td>0</td>\n",
       "      <td>0</td>\n",
       "    </tr>\n",
       "    <tr>\n",
       "      <th>frank sinatra</th>\n",
       "      <td>0</td>\n",
       "      <td>0</td>\n",
       "      <td>0</td>\n",
       "      <td>0</td>\n",
       "      <td>0</td>\n",
       "      <td>0</td>\n",
       "      <td>0</td>\n",
       "      <td>0</td>\n",
       "      <td>0</td>\n",
       "      <td>0</td>\n",
       "      <td>...</td>\n",
       "      <td>0</td>\n",
       "      <td>0</td>\n",
       "      <td>0</td>\n",
       "      <td>0</td>\n",
       "      <td>0</td>\n",
       "      <td>0</td>\n",
       "      <td>0</td>\n",
       "      <td>0</td>\n",
       "      <td>3</td>\n",
       "      <td>0</td>\n",
       "    </tr>\n",
       "  </tbody>\n",
       "</table>\n",
       "<p>5 rows × 946 columns</p>\n",
       "</div>"
      ],
      "text/plain": [
       "               aah  aand  acapulco  ache  ado  adore  ah  ahead  aint  air  \\\n",
       "frank sinatra    0     0         0     0    0      2   0      0     0    0   \n",
       "frank sinatra    0     0         0     0    0      0   0      0     0    0   \n",
       "frank sinatra    0     0         0     0    0      0   0      0     0    0   \n",
       "frank sinatra    0     0         0     0    0      0   0      0     0    0   \n",
       "frank sinatra    0     0         0     0    0      0   0      0     0    0   \n",
       "\n",
       "               ...  years  yes  yore  york  youd  youll  young  younger  \\\n",
       "frank sinatra  ...      0    0     0     0     0      0      0        0   \n",
       "frank sinatra  ...      0    0     0    13     0      0      0        0   \n",
       "frank sinatra  ...      0    0     0     0     0      0      0        0   \n",
       "frank sinatra  ...      0    2     0     0     0      0      0        0   \n",
       "frank sinatra  ...      0    0     0     0     0      0      0        0   \n",
       "\n",
       "               youre  yuletide  \n",
       "frank sinatra      0         0  \n",
       "frank sinatra      0         0  \n",
       "frank sinatra      0         0  \n",
       "frank sinatra      0         0  \n",
       "frank sinatra      3         0  \n",
       "\n",
       "[5 rows x 946 columns]"
      ]
     },
     "execution_count": 10,
     "metadata": {},
     "output_type": "execute_result"
    }
   ],
   "source": [
    "cv = CountVectorizer(stop_words='english', ngram_range=(1, 1))\n",
    "vec = cv.fit_transform(CORPUS)\n",
    "pd.DataFrame(vec.todense(), columns=cv.get_feature_names(), index=LABELS).head(5)"
   ]
  },
  {
   "cell_type": "markdown",
   "metadata": {},
   "source": [
    "### 5. Applying Tf-Idf Transformation (Normalization):"
   ]
  },
  {
   "cell_type": "code",
   "execution_count": 12,
   "metadata": {},
   "outputs": [
    {
     "data": {
      "text/html": [
       "<div>\n",
       "<style scoped>\n",
       "    .dataframe tbody tr th:only-of-type {\n",
       "        vertical-align: middle;\n",
       "    }\n",
       "\n",
       "    .dataframe tbody tr th {\n",
       "        vertical-align: top;\n",
       "    }\n",
       "\n",
       "    .dataframe thead th {\n",
       "        text-align: right;\n",
       "    }\n",
       "</style>\n",
       "<table border=\"1\" class=\"dataframe\">\n",
       "  <thead>\n",
       "    <tr style=\"text-align: right;\">\n",
       "      <th></th>\n",
       "      <th>aah</th>\n",
       "      <th>aand</th>\n",
       "      <th>acapulco</th>\n",
       "      <th>ache</th>\n",
       "      <th>ado</th>\n",
       "      <th>adore</th>\n",
       "      <th>ah</th>\n",
       "      <th>ahead</th>\n",
       "      <th>aint</th>\n",
       "      <th>air</th>\n",
       "      <th>...</th>\n",
       "      <th>years</th>\n",
       "      <th>yes</th>\n",
       "      <th>yore</th>\n",
       "      <th>york</th>\n",
       "      <th>youd</th>\n",
       "      <th>youll</th>\n",
       "      <th>young</th>\n",
       "      <th>younger</th>\n",
       "      <th>youre</th>\n",
       "      <th>yuletide</th>\n",
       "    </tr>\n",
       "  </thead>\n",
       "  <tbody>\n",
       "    <tr>\n",
       "      <th>frank sinatra</th>\n",
       "      <td>0.0</td>\n",
       "      <td>0.0</td>\n",
       "      <td>0.0</td>\n",
       "      <td>0.0</td>\n",
       "      <td>0.0</td>\n",
       "      <td>0.442568</td>\n",
       "      <td>0.0</td>\n",
       "      <td>0.0</td>\n",
       "      <td>0.0</td>\n",
       "      <td>0.0</td>\n",
       "      <td>...</td>\n",
       "      <td>0.0</td>\n",
       "      <td>0.000000</td>\n",
       "      <td>0.0</td>\n",
       "      <td>0.000000</td>\n",
       "      <td>0.0</td>\n",
       "      <td>0.0</td>\n",
       "      <td>0.0</td>\n",
       "      <td>0.0</td>\n",
       "      <td>0.000000</td>\n",
       "      <td>0.0</td>\n",
       "    </tr>\n",
       "    <tr>\n",
       "      <th>frank sinatra</th>\n",
       "      <td>0.0</td>\n",
       "      <td>0.0</td>\n",
       "      <td>0.0</td>\n",
       "      <td>0.0</td>\n",
       "      <td>0.0</td>\n",
       "      <td>0.000000</td>\n",
       "      <td>0.0</td>\n",
       "      <td>0.0</td>\n",
       "      <td>0.0</td>\n",
       "      <td>0.0</td>\n",
       "      <td>...</td>\n",
       "      <td>0.0</td>\n",
       "      <td>0.000000</td>\n",
       "      <td>0.0</td>\n",
       "      <td>0.753371</td>\n",
       "      <td>0.0</td>\n",
       "      <td>0.0</td>\n",
       "      <td>0.0</td>\n",
       "      <td>0.0</td>\n",
       "      <td>0.000000</td>\n",
       "      <td>0.0</td>\n",
       "    </tr>\n",
       "    <tr>\n",
       "      <th>frank sinatra</th>\n",
       "      <td>0.0</td>\n",
       "      <td>0.0</td>\n",
       "      <td>0.0</td>\n",
       "      <td>0.0</td>\n",
       "      <td>0.0</td>\n",
       "      <td>0.000000</td>\n",
       "      <td>0.0</td>\n",
       "      <td>0.0</td>\n",
       "      <td>0.0</td>\n",
       "      <td>0.0</td>\n",
       "      <td>...</td>\n",
       "      <td>0.0</td>\n",
       "      <td>0.000000</td>\n",
       "      <td>0.0</td>\n",
       "      <td>0.000000</td>\n",
       "      <td>0.0</td>\n",
       "      <td>0.0</td>\n",
       "      <td>0.0</td>\n",
       "      <td>0.0</td>\n",
       "      <td>0.000000</td>\n",
       "      <td>0.0</td>\n",
       "    </tr>\n",
       "    <tr>\n",
       "      <th>frank sinatra</th>\n",
       "      <td>0.0</td>\n",
       "      <td>0.0</td>\n",
       "      <td>0.0</td>\n",
       "      <td>0.0</td>\n",
       "      <td>0.0</td>\n",
       "      <td>0.000000</td>\n",
       "      <td>0.0</td>\n",
       "      <td>0.0</td>\n",
       "      <td>0.0</td>\n",
       "      <td>0.0</td>\n",
       "      <td>...</td>\n",
       "      <td>0.0</td>\n",
       "      <td>0.140059</td>\n",
       "      <td>0.0</td>\n",
       "      <td>0.000000</td>\n",
       "      <td>0.0</td>\n",
       "      <td>0.0</td>\n",
       "      <td>0.0</td>\n",
       "      <td>0.0</td>\n",
       "      <td>0.000000</td>\n",
       "      <td>0.0</td>\n",
       "    </tr>\n",
       "    <tr>\n",
       "      <th>frank sinatra</th>\n",
       "      <td>0.0</td>\n",
       "      <td>0.0</td>\n",
       "      <td>0.0</td>\n",
       "      <td>0.0</td>\n",
       "      <td>0.0</td>\n",
       "      <td>0.000000</td>\n",
       "      <td>0.0</td>\n",
       "      <td>0.0</td>\n",
       "      <td>0.0</td>\n",
       "      <td>0.0</td>\n",
       "      <td>...</td>\n",
       "      <td>0.0</td>\n",
       "      <td>0.000000</td>\n",
       "      <td>0.0</td>\n",
       "      <td>0.000000</td>\n",
       "      <td>0.0</td>\n",
       "      <td>0.0</td>\n",
       "      <td>0.0</td>\n",
       "      <td>0.0</td>\n",
       "      <td>0.065312</td>\n",
       "      <td>0.0</td>\n",
       "    </tr>\n",
       "  </tbody>\n",
       "</table>\n",
       "<p>5 rows × 946 columns</p>\n",
       "</div>"
      ],
      "text/plain": [
       "               aah  aand  acapulco  ache  ado     adore   ah  ahead  aint  \\\n",
       "frank sinatra  0.0   0.0       0.0   0.0  0.0  0.442568  0.0    0.0   0.0   \n",
       "frank sinatra  0.0   0.0       0.0   0.0  0.0  0.000000  0.0    0.0   0.0   \n",
       "frank sinatra  0.0   0.0       0.0   0.0  0.0  0.000000  0.0    0.0   0.0   \n",
       "frank sinatra  0.0   0.0       0.0   0.0  0.0  0.000000  0.0    0.0   0.0   \n",
       "frank sinatra  0.0   0.0       0.0   0.0  0.0  0.000000  0.0    0.0   0.0   \n",
       "\n",
       "               air  ...  years       yes  yore      york  youd  youll  young  \\\n",
       "frank sinatra  0.0  ...    0.0  0.000000   0.0  0.000000   0.0    0.0    0.0   \n",
       "frank sinatra  0.0  ...    0.0  0.000000   0.0  0.753371   0.0    0.0    0.0   \n",
       "frank sinatra  0.0  ...    0.0  0.000000   0.0  0.000000   0.0    0.0    0.0   \n",
       "frank sinatra  0.0  ...    0.0  0.140059   0.0  0.000000   0.0    0.0    0.0   \n",
       "frank sinatra  0.0  ...    0.0  0.000000   0.0  0.000000   0.0    0.0    0.0   \n",
       "\n",
       "               younger     youre  yuletide  \n",
       "frank sinatra      0.0  0.000000       0.0  \n",
       "frank sinatra      0.0  0.000000       0.0  \n",
       "frank sinatra      0.0  0.000000       0.0  \n",
       "frank sinatra      0.0  0.000000       0.0  \n",
       "frank sinatra      0.0  0.065312       0.0  \n",
       "\n",
       "[5 rows x 946 columns]"
      ]
     },
     "execution_count": 12,
     "metadata": {},
     "output_type": "execute_result"
    }
   ],
   "source": [
    "tf = TfidfTransformer()\n",
    "vec = tf.fit_transform(vec)\n",
    "\n",
    "#vec2 = tf.fit_transform(vec)\n",
    "\n",
    "pd.DataFrame(vec.todense(), columns=cv.get_feature_names(), index=LABELS).head(5)"
   ]
  },
  {
   "cell_type": "markdown",
   "metadata": {},
   "source": [
    "### 6. Putting everything together in a pipeline:"
   ]
  },
  {
   "cell_type": "code",
   "execution_count": 16,
   "metadata": {},
   "outputs": [],
   "source": [
    "vectorizer = TfidfVectorizer(stop_words='english')\n",
    "X = vectorizer.fit_transform(CORPUS)"
   ]
  },
  {
   "cell_type": "markdown",
   "metadata": {},
   "source": [
    "### 7. Applying the model: \n",
    "\n",
    "### Multinomial Naive Bayes Classifier"
   ]
  },
  {
   "cell_type": "code",
   "execution_count": 17,
   "metadata": {},
   "outputs": [
    {
     "data": {
      "text/plain": [
       "MultinomialNB()"
      ]
     },
     "execution_count": 17,
     "metadata": {},
     "output_type": "execute_result"
    }
   ],
   "source": [
    "clf = MultinomialNB()\n",
    "clf.fit(X, LABELS)\n",
    "MultinomialNB()"
   ]
  },
  {
   "cell_type": "code",
   "execution_count": 18,
   "metadata": {},
   "outputs": [
    {
     "data": {
      "text/plain": [
       "Pipeline(steps=[('tfidfvectorizer', TfidfVectorizer(stop_words='english')),\n",
       "                ('multinomialnb', MultinomialNB())])"
      ]
     },
     "execution_count": 18,
     "metadata": {},
     "output_type": "execute_result"
    }
   ],
   "source": [
    "# Pipeline\n",
    "pipeline = make_pipeline(TfidfVectorizer(stop_words = 'english'), \n",
    "                         MultinomialNB(class_prior=None))\n",
    "\n",
    "pipeline.fit(CORPUS, LABELS)"
   ]
  },
  {
   "cell_type": "code",
   "execution_count": 19,
   "metadata": {},
   "outputs": [
    {
     "data": {
      "text/plain": [
       "array(['frank sinatra'], dtype='<U13')"
      ]
     },
     "execution_count": 19,
     "metadata": {},
     "output_type": "execute_result"
    }
   ],
   "source": [
    "pipeline.predict(['come fly with me lets fly lets fly away if you'])"
   ]
  },
  {
   "cell_type": "code",
   "execution_count": 20,
   "metadata": {},
   "outputs": [
    {
     "data": {
      "text/plain": [
       "array([[0.44671259, 0.55328741]])"
      ]
     },
     "execution_count": 20,
     "metadata": {},
     "output_type": "execute_result"
    }
   ],
   "source": [
    "pipeline.predict_proba(['come fly with me lets fly lets fly away if you'])"
   ]
  },
  {
   "cell_type": "code",
   "execution_count": 21,
   "metadata": {},
   "outputs": [
    {
     "data": {
      "text/plain": [
       "array(['chris rea'], dtype='<U13')"
      ]
     },
     "execution_count": 21,
     "metadata": {},
     "output_type": "execute_result"
    }
   ],
   "source": [
    "pipeline.predict(['on the hard fast train on the road to gain something gets right'])"
   ]
  }
 ],
 "metadata": {
  "kernelspec": {
   "display_name": "Python 3",
   "language": "python",
   "name": "python3"
  },
  "language_info": {
   "codemirror_mode": {
    "name": "ipython",
    "version": 3
   },
   "file_extension": ".py",
   "mimetype": "text/x-python",
   "name": "python",
   "nbconvert_exporter": "python",
   "pygments_lexer": "ipython3",
   "version": "3.8.5"
  }
 },
 "nbformat": 4,
 "nbformat_minor": 4
}
